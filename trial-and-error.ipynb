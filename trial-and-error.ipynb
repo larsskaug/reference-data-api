{
 "cells": [
  {
   "cell_type": "code",
   "execution_count": 8,
   "id": "35d20bb8",
   "metadata": {},
   "outputs": [],
   "source": [
    ":dep reqwest = { version = \"0.11\", features = [\"json\"] }\n",
    ":dep tokio = { version= \"1\", features = [\"full\"] }\n",
    ":dep reqwest = \"0.11.7\"\n",
    ":dep regex = \"1\"\n",
    ":dep scraper = \"0.12.0\"\n",
    ":dep serde = { version = \"1.0\", features = [\"derive\"]}\n",
    ":dep serde_json = \"1.0\"\n",
    ":dep chrono = \"0.4\""
   ]
  },
  {
   "cell_type": "code",
   "execution_count": 21,
   "id": "e42e75a0",
   "metadata": {
    "scrolled": true
   },
   "outputs": [
    {
     "name": "stderr",
     "output_type": "stream",
     "text": [
      "While processing instruction `Ok(\"LOAD_AND_RUN /tmp/.tmpsDjH3v/target/debug/deps/libcode_21.so run_user_code_7\")`, got error: Message(\"/tmp/.tmpsDjH3v/target/debug/deps/libcode_21.so: undefined symbol: _ZN58_$LT$hyper..error..Error$u20$as$u20$core..fmt..Display$GT$3fmt17h2fb95c92da7edfa2E\")\n"
     ]
    },
    {
     "ename": "Error",
     "evalue": "Child process terminated with status: exit status: 99",
     "output_type": "error",
     "traceback": [
      "Child process terminated with status: exit status: 99"
     ]
    }
   ],
   "source": [
    "use std::collections::HashMap;\n",
    "\n",
    "let res = reqwest::get(\"https://www.rust-lang.org/en-US/\")\n",
    "              .await?\n",
    "              .text()\n",
    "              .await?;"
   ]
  },
  {
   "cell_type": "code",
   "execution_count": 4,
   "id": "069c1dd7",
   "metadata": {},
   "outputs": [],
   "source": [
    ":dep scraper = \"0.12.0\""
   ]
  },
  {
   "cell_type": "code",
   "execution_count": 5,
   "id": "939daafc",
   "metadata": {},
   "outputs": [
    {
     "name": "stdout",
     "output_type": "stream",
     "text": [
      "<!-- saved from url=(0068)https://www.nrcs.usda.gov/wps/portal/nrcs/detail/?cid=nrcs143_013696 -->\n",
      "</td></tr><tr><td class=\"line-number\" value=\"4879\"></td><td class=\"line-content\"><span class=\"html-end-of-file\"></span></td></tr></tbody></table></body></html>;/tr&gt; dth=\"100%\" cellpadding=\"0\" cellspacing=\"0\"  &gt;urrUrl+\"&amp;cgTag=\"+ccgTag,;\",rgin-top:2px;'/&gt;&amp;nbsp;&amp;nbsp;&amp;nbsp;&amp;nbsp;\");\t\t\t\t\t\t\t   class=\"html-attribute-name\">href</span>=\"<a class=\"html-attribute-value html-resource-link\" target=\"_blank\" href=\"https://www.nrcs.usda.gov/NRCS_WIDTheme/themes/html/NRCS_WIDTheme/jquery.leaveNotice.css\" rel=\"noreferrer noopener\">/NRCS_WIDTheme/themes/html/NRCS_WIDTheme/jquery.leaveNotice.css</a>\"/&gt;</span>\t\tlink\" target=\"_blank\" href=\"https://www.nrcs.usda.gov/wps/portal/nrcs/detailfull/national/about/?cid=nrcsdev11_000882\" rel=\"noreferrer noopener\">/wps/portal/nrcs/detailfull/national/about/?cid=nrcsdev11_000882</a>\" <span class=\"html-attribute-name\">name</span>=\"<span class=\"html-attribute-value\">lnkNo</span>\"&gt;</span>Non-Discrimination Statement<span class=\"html-tag\">&lt;/a&gt;</span> | <span class=\"html-tag\">&lt;a  <span class=\"html-attribute-name\">href</span>=\"<a class=\"html-attribute-value html-external-link\" target=\"_blank\" href=\"https://www.nrcs.usda.gov/wps/portal/nrcs/detailfull/national/about/?cid=nrcsdev11_000881\" rel=\"noreferrer noopener\">/wps/portal/nrcs/detailfull/national/about/?cid=nrcsdev11_000881</a>\" <span class=\"html-attribute-name\">name</span>=\"<span class=\"html-attribute-value\">lnkIn</span>\"&gt;</span>Information Quality<span class=\"html-tag\">&lt;/a&gt;</span> | <span class=\"html-tag\">&lt;a <span class=\"html-attribute-name\">target</span>='<span class=\"html-attribute-value\">_blank</span>' <span class=\"html-attribute-name\">href</span>=\"<a class=\"html-attribute-value html-external-link\" target=\"_blank\" href=\"http://www.usa.gov/\" rel=\"noreferrer noopener\">http://www.usa.gov/</a>\" <span class=\"html-attribute-name\">name</span>=\"<span class=\"html-attribute-value\">lnkUS</span>\"&gt;</span>USA.gov<span class=\"html-tag\">&lt;/a&gt;</span> | <span class=\"html-tag\">&lt;a <span class=\"html-attribute-name\">target</span>='<span class=\"html-attribute-value\">_blank</span>' <span class=\"html-attribute-name\">href</span>=\"<a class=\"html-attribute-value html-external-link\" target=\"_blank\" href=\"http://www.whitehouse.gov/\" rel=\"noreferrer noopener\">http://www.whitehouse.gov/</a>\" <span class=\"html-attribute-name\">name</span>=\"<span class=\"html-attribute-value\">lnkWh</span>\"&gt;</span>WhiteHouse.gov<span class=\"html-tag\">&lt;/a&gt;</span>\"noreferrer noopener\">https://www.usda.gov/plain-writing</a>\" <span class=\"html-attribute-name\">name</span>=\"<span class=\"html-attribute-value\">lnkPW</span>\"&gt;</span>Plain Writing<span class=\"html-tag\">&lt;/a&gt;</span>  |  <span class=\"html-tag\">&lt;a  <span class=\"html-attribute-name\">href</span>=\"<a class=\"html-attribute-value html-external-link\" target=\"_blank\" href=\"https://www.nrcs.usda.gov/wps/portal/nrcs/detailfull/national/about/?cid=nrcsdev11_000886\" rel=\"noreferrer noopener\">/wps/portal/nrcs/detailfull/national/about/?cid=nrcsdev11_000886</a>\" <span class=\"html-attribute-name\">name</span>=\"<span class=\"html-attribute-value\">lnkAc</span>\"&gt;</span>Accessibility Statement<span class=\"html-tag\">&lt;/a&gt;</span><span class=\"html-tag\">&lt;/p&gt;</span>\n"
     ]
    }
   ],
   "source": [
    "use std::fs;\n",
    "\n",
    "let f = \"/home/lars/development/reference-data-api/fips_state_name.html\";\n",
    "let src = fs::read_to_string(f).expect(\"Unable to read file\");\n",
    "println!(\"{}\", src);"
   ]
  },
  {
   "cell_type": "code",
   "execution_count": 6,
   "id": "5567d08c",
   "metadata": {},
   "outputs": [],
   "source": [
    "use scraper::Html;\n",
    "\n",
    "let document = Html::parse_document(&src);"
   ]
  },
  {
   "cell_type": "code",
   "execution_count": 7,
   "id": "95b19a80",
   "metadata": {},
   "outputs": [
    {
     "data": {
      "text/plain": [
       "()"
      ]
     },
     "execution_count": 7,
     "metadata": {},
     "output_type": "execute_result"
    }
   ],
   "source": [
    "use scraper::Selector;\n",
    "\n",
    "let selector = Selector::parse(\"#fancybox-tmp\").unwrap();\n",
    "\n",
    "for element in document.select(&selector) {\n",
    "    println!(\"{:?}\", element.text())\n",
    "}\n"
   ]
  },
  {
   "cell_type": "code",
   "execution_count": null,
   "id": "72ec544b",
   "metadata": {},
   "outputs": [],
   "source": []
  }
 ],
 "metadata": {
  "kernelspec": {
   "display_name": "Rust",
   "language": "rust",
   "name": "rust"
  },
  "language_info": {
   "codemirror_mode": "rust",
   "file_extension": ".rs",
   "mimetype": "text/rust",
   "name": "Rust",
   "pygment_lexer": "rust",
   "version": ""
  }
 },
 "nbformat": 4,
 "nbformat_minor": 5
}
