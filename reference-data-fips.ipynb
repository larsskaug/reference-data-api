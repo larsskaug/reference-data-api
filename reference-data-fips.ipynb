{
 "cells": [
  {
   "cell_type": "markdown",
   "metadata": {
    "language": "text"
   },
   "source": [
    "# reference data fips\n",
    "\n",
    "This is a text cell. Start editing!"
   ]
  },
  {
   "cell_type": "code",
   "execution_count": 1,
   "metadata": {
    "cell.metadata.exec_info": {
     "endTs": 1646191881101,
     "startTs": 1646191879256
    },
    "language": "scala"
   },
   "outputs": [
    {
     "data": {
      "text/plain": [
       "<td> Alabama</td>\n",
       "<td> AL</td>\n",
       "<td> 01</td>\n",
       "<td> Alaska</td>\n",
       "<td> AK</td>\n",
       "<td> 02</td>\n",
       "<td> Arizona</td>\n",
       "<td> AZ</td>\n",
       "<td> 04</td>\n",
       "<td> Arkansas</td>\n",
       "<td> AR</td>\n",
       "<td> 05</td>\n",
       "<td> California</td>\n",
       "<td> CA</td>\n",
       "<td> 06</td>\n",
       "<td> Colorado</td>\n",
       "<td> CO</td>…"
      ]
     },
     "execution_count": 1,
     "metadata": {
      "name": "Out",
      "type": "Elements"
     },
     "output_type": "execute_result"
    }
   ],
   "source": [
    "import org.jsoup._\n",
    "import scala.collection.JavaConverters\n",
    "\n",
    "val url = \"https://www.nrcs.usda.gov/wps/portal/nrcs/detail/?cid=nrcs143_013696\"\n",
    "\n",
    "val doc = Jsoup.connect(url).get\n",
    "\n",
    "val statesTbl = doc.select(\"#detail > table\").select(\"td\")\n",
    "\n",
    "statesTbl"
   ]
  },
  {
   "cell_type": "code",
   "execution_count": 2,
   "metadata": {
    "cell.metadata.exec_info": {
     "endTs": 1646191881919,
     "startTs": 1646191881105
    },
    "language": "scala"
   },
   "outputs": [
    {
     "data": {
      "text/plain": [
       "Stream(Stream(Alabama, ?), ?)"
      ]
     },
     "execution_count": 2,
     "metadata": {
      "name": "Out",
      "type": "Seq[Seq[Any]]"
     },
     "output_type": "execute_result"
    }
   ],
   "source": [
    "val stateRef =statesTbl.toArray.map(_.asInstanceOf[org.jsoup.nodes.Element])\n",
    "    .map(_.text).grouped(3).map(row => (row(0), row(1), row(2).toInt).productIterator.toSeq).toSeq\n",
    "\n",
    "stateRef    "
   ]
  },
  {
   "cell_type": "code",
   "execution_count": 3,
   "metadata": {
    "language": "viz"
   },
   "outputs": [
    {
     "data": {
      "text/html": []
     },
     "metadata": {},
     "output_type": "display_data"
    }
   ],
   "source": [
    "{\"type\":\"table\",\"value\":\"Out\",\"rowRange\":[0,20]}"
   ]
  },
  {
   "cell_type": "code",
   "execution_count": 4,
   "metadata": {
    "cell.metadata.exec_info": {
     "endTs": 1646162819596,
     "startTs": 1646162819457
    },
    "language": "scala"
   },
   "outputs": [
    {
     "data": {
      "text/plain": [
       "states.csv"
      ]
     },
     "execution_count": 4,
     "metadata": {
      "name": "Out",
      "type": "Path"
     },
     "output_type": "execute_result"
    }
   ],
   "source": [
    "import java.nio.file.{Files, Paths}\n",
    "Files.writeString(Paths.get(\"states.csv\"), stateRef.mkString(\"\\n\") )\n",
    "\n",
    "\n",
    "\n"
   ]
  },
  {
   "cell_type": "code",
   "execution_count": 5,
   "metadata": {
    "cell.metadata.exec_info": {
     "endTs": 1646192129580,
     "startTs": 1646192129494
    },
    "language": "scala"
   },
   "outputs": [],
   "source": [
    "import java.util.Properties\n",
    "import org.apache.kafka.clients.producer._\n",
    "\n",
    "def writeToKafka(topic: String, key: String, value: String): Unit = {\n",
    "    val props = new Properties()\n",
    "    props.put(\"bootstrap.servers\", \"localhost:9092\")\n",
    "    props.put(\"key.serializer\", \"org.apache.kafka.common.serialization.StringSerializer\")\n",
    "    props.put(\"value.serializer\", \"org.apache.kafka.common.serialization.StringSerializer\")\n",
    "    //props.put(\"compression.type\", \"snappy\")\n",
    "\n",
    "    val producer = new KafkaProducer[String, String](props)\n",
    "    val record = new ProducerRecord[String, String](topic, key, value)\n",
    "\n",
    "    stateRef.foreach(record => producer.send(new ProducerRecord[String, String](\"test.states\", \"a\", record.mkString(\",\"))))\n",
    "\n",
    "    producer.close()\n",
    "}\n",
    "\n",
    "writeToKafka(\"test.lars\", \"123\", \"Something really important\")"
   ]
  }
 ],
 "metadata": {
  "config": {
   "dependencies": {
    "scala": [
     "org.jsoup:jsoup:1.14.3",
     "org.apache.kafka:kafka-streams-scala_2.12:2.8.1"
    ]
   },
   "env": {},
   "exclusions": [],
   "repositories": [],
   "sparkConfig": {}
  },
  "kernelspec": {
   "display_name": "Python 3 (ipykernel)",
   "language": "python",
   "name": "python3"
  },
  "language_info": {
   "codemirror_mode": {
    "name": "ipython",
    "version": 3
   },
   "file_extension": ".py",
   "mimetype": "text/x-python",
   "name": "python",
   "nbconvert_exporter": "python",
   "pygments_lexer": "ipython3",
   "version": "3.8.10"
  }
 },
 "nbformat": 4,
 "nbformat_minor": 1
}
