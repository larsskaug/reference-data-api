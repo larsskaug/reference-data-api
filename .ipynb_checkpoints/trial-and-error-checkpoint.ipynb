{
 "cells": [
  {
   "cell_type": "code",
   "execution_count": 10,
   "id": "1f5969ea",
   "metadata": {},
   "outputs": [],
   "source": [
    ":dep reqwest = { version = \"0.11.9\", features = [\"blocking\", \"json\"] }\n",
    "// sudo apt install libssl-dev was required"
   ]
  },
  {
   "cell_type": "code",
   "execution_count": 21,
   "id": "9c1c36e1",
   "metadata": {},
   "outputs": [
    {
     "name": "stderr",
     "output_type": "stream",
     "text": [
      "While processing instruction `Ok(\"LOAD_AND_RUN /tmp/.tmpYq1RQJ/target/debug/deps/libcode_7.so run_user_code_3\")`, got error: Message(\"/tmp/.tmpYq1RQJ/target/debug/deps/libcode_7.so: undefined symbol: _ZN58_$LT$hyper..error..Error$u20$as$u20$core..fmt..Display$GT$3fmt17ha905ed39cb43ec37E\")\n"
     ]
    },
    {
     "ename": "Error",
     "evalue": "Child process terminated with status: exit status: 99",
     "output_type": "error",
     "traceback": [
      "Child process terminated with status: exit status: 99"
     ]
    }
   ],
   "source": [
    "let url = \"https://www.nrcs.usda.gov/wps/portal/nrcs/detail/?cid=nrcs143_013696\";\n",
    "\n",
    "let resp = reqwest::blocking::get(url).unwrap();\n",
    "\n",
    "if resp.status().is_success() {\n",
    "    println!(\"success!\");\n",
    "} else if resp.status().is_server_error() {\n",
    "    println!(\"server error!\");\n",
    "} else {\n",
    "    println!(\"Something else happened. Status: {:?}\", resp.status());\n",
    "}"
   ]
  },
  {
   "cell_type": "code",
   "execution_count": 22,
   "id": "22c83b7b",
   "metadata": {},
   "outputs": [
    {
     "name": "stderr",
     "output_type": "stream",
     "text": [
      "While processing instruction `Ok(\"LOAD_AND_RUN /tmp/.tmpYq1RQJ/target/debug/deps/libcode_8.so run_user_code_3\")`, got error: Message(\"/tmp/.tmpYq1RQJ/target/debug/deps/libcode_8.so: undefined symbol: _ZN58_$LT$hyper..error..Error$u20$as$u20$core..fmt..Display$GT$3fmt17ha905ed39cb43ec37E\")\n"
     ]
    },
    {
     "ename": "Error",
     "evalue": "Child process terminated with status: exit status: 99",
     "output_type": "error",
     "traceback": [
      "Child process terminated with status: exit status: 99"
     ]
    }
   ],
   "source": [
    "let body = reqwest::get(\"https://www.rust-lang.org\")\n",
    "    .await?\n",
    "    .text()\n",
    "    .await?;\n",
    "\n",
    "println!(\"body = {:?}\", body);"
   ]
  }
 ],
 "metadata": {
  "kernelspec": {
   "display_name": "Rust",
   "language": "rust",
   "name": "rust"
  },
  "language_info": {
   "codemirror_mode": "rust",
   "file_extension": ".rs",
   "mimetype": "text/rust",
   "name": "Rust",
   "pygment_lexer": "rust",
   "version": ""
  }
 },
 "nbformat": 4,
 "nbformat_minor": 5
}
